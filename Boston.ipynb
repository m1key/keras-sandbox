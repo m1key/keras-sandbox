{
  "nbformat": 4,
  "nbformat_minor": 0,
  "metadata": {
    "colab": {
      "name": "Boston.ipynb",
      "version": "0.3.2",
      "provenance": [],
      "collapsed_sections": [],
      "include_colab_link": true
    },
    "kernelspec": {
      "name": "python3",
      "display_name": "Python 3"
    },
    "accelerator": "GPU"
  },
  "cells": [
    {
      "cell_type": "markdown",
      "metadata": {
        "id": "view-in-github",
        "colab_type": "text"
      },
      "source": [
        "<a href=\"https://colab.research.google.com/github/m1key/keras-sandbox/blob/master/Boston.ipynb\" target=\"_parent\"><img src=\"https://colab.research.google.com/assets/colab-badge.svg\" alt=\"Open In Colab\"/></a>"
      ]
    },
    {
      "metadata": {
        "id": "0xqt17VnVFgY",
        "colab_type": "code",
        "colab": {
          "base_uri": "https://localhost:8080/",
          "height": 68
        },
        "outputId": "debbc6c6-632e-457d-a91d-f132d5a49b6b"
      },
      "cell_type": "code",
      "source": [
        "from keras.datasets import boston_housing\n",
        "\n",
        "(train_data, train_targets), (test_data, test_targets) = boston_housing.load_data()"
      ],
      "execution_count": 1,
      "outputs": [
        {
          "output_type": "stream",
          "text": [
            "Using TensorFlow backend.\n"
          ],
          "name": "stderr"
        },
        {
          "output_type": "stream",
          "text": [
            "Downloading data from https://s3.amazonaws.com/keras-datasets/boston_housing.npz\n",
            "57344/57026 [==============================] - 0s 6us/step\n"
          ],
          "name": "stdout"
        }
      ]
    },
    {
      "metadata": {
        "id": "eZ-LcKsyVTF2",
        "colab_type": "code",
        "outputId": "043a634c-d608-4a98-81ca-ccae814f679f",
        "colab": {
          "base_uri": "https://localhost:8080/",
          "height": 51
        }
      },
      "cell_type": "code",
      "source": [
        "print(train_data.shape)\n",
        "print(test_data.shape)"
      ],
      "execution_count": 2,
      "outputs": [
        {
          "output_type": "stream",
          "text": [
            "(404, 13)\n",
            "(102, 13)\n"
          ],
          "name": "stdout"
        }
      ]
    },
    {
      "metadata": {
        "id": "JmT8BCr7Vejm",
        "colab_type": "code",
        "outputId": "039e4f54-d343-4dbe-c5dc-e936d0ab7e1c",
        "colab": {
          "base_uri": "https://localhost:8080/",
          "height": 646
        }
      },
      "cell_type": "code",
      "source": [
        "train_targets"
      ],
      "execution_count": 3,
      "outputs": [
        {
          "output_type": "execute_result",
          "data": {
            "text/plain": [
              "array([15.2, 42.3, 50. , 21.1, 17.7, 18.5, 11.3, 15.6, 15.6, 14.4, 12.1,\n",
              "       17.9, 23.1, 19.9, 15.7,  8.8, 50. , 22.5, 24.1, 27.5, 10.9, 30.8,\n",
              "       32.9, 24. , 18.5, 13.3, 22.9, 34.7, 16.6, 17.5, 22.3, 16.1, 14.9,\n",
              "       23.1, 34.9, 25. , 13.9, 13.1, 20.4, 20. , 15.2, 24.7, 22.2, 16.7,\n",
              "       12.7, 15.6, 18.4, 21. , 30.1, 15.1, 18.7,  9.6, 31.5, 24.8, 19.1,\n",
              "       22. , 14.5, 11. , 32. , 29.4, 20.3, 24.4, 14.6, 19.5, 14.1, 14.3,\n",
              "       15.6, 10.5,  6.3, 19.3, 19.3, 13.4, 36.4, 17.8, 13.5, 16.5,  8.3,\n",
              "       14.3, 16. , 13.4, 28.6, 43.5, 20.2, 22. , 23. , 20.7, 12.5, 48.5,\n",
              "       14.6, 13.4, 23.7, 50. , 21.7, 39.8, 38.7, 22.2, 34.9, 22.5, 31.1,\n",
              "       28.7, 46. , 41.7, 21. , 26.6, 15. , 24.4, 13.3, 21.2, 11.7, 21.7,\n",
              "       19.4, 50. , 22.8, 19.7, 24.7, 36.2, 14.2, 18.9, 18.3, 20.6, 24.6,\n",
              "       18.2,  8.7, 44. , 10.4, 13.2, 21.2, 37. , 30.7, 22.9, 20. , 19.3,\n",
              "       31.7, 32. , 23.1, 18.8, 10.9, 50. , 19.6,  5. , 14.4, 19.8, 13.8,\n",
              "       19.6, 23.9, 24.5, 25. , 19.9, 17.2, 24.6, 13.5, 26.6, 21.4, 11.9,\n",
              "       22.6, 19.6,  8.5, 23.7, 23.1, 22.4, 20.5, 23.6, 18.4, 35.2, 23.1,\n",
              "       27.9, 20.6, 23.7, 28. , 13.6, 27.1, 23.6, 20.6, 18.2, 21.7, 17.1,\n",
              "        8.4, 25.3, 13.8, 22.2, 18.4, 20.7, 31.6, 30.5, 20.3,  8.8, 19.2,\n",
              "       19.4, 23.1, 23. , 14.8, 48.8, 22.6, 33.4, 21.1, 13.6, 32.2, 13.1,\n",
              "       23.4, 18.9, 23.9, 11.8, 23.3, 22.8, 19.6, 16.7, 13.4, 22.2, 20.4,\n",
              "       21.8, 26.4, 14.9, 24.1, 23.8, 12.3, 29.1, 21. , 19.5, 23.3, 23.8,\n",
              "       17.8, 11.5, 21.7, 19.9, 25. , 33.4, 28.5, 21.4, 24.3, 27.5, 33.1,\n",
              "       16.2, 23.3, 48.3, 22.9, 22.8, 13.1, 12.7, 22.6, 15. , 15.3, 10.5,\n",
              "       24. , 18.5, 21.7, 19.5, 33.2, 23.2,  5. , 19.1, 12.7, 22.3, 10.2,\n",
              "       13.9, 16.3, 17. , 20.1, 29.9, 17.2, 37.3, 45.4, 17.8, 23.2, 29. ,\n",
              "       22. , 18. , 17.4, 34.6, 20.1, 25. , 15.6, 24.8, 28.2, 21.2, 21.4,\n",
              "       23.8, 31. , 26.2, 17.4, 37.9, 17.5, 20. ,  8.3, 23.9,  8.4, 13.8,\n",
              "        7.2, 11.7, 17.1, 21.6, 50. , 16.1, 20.4, 20.6, 21.4, 20.6, 36.5,\n",
              "        8.5, 24.8, 10.8, 21.9, 17.3, 18.9, 36.2, 14.9, 18.2, 33.3, 21.8,\n",
              "       19.7, 31.6, 24.8, 19.4, 22.8,  7.5, 44.8, 16.8, 18.7, 50. , 50. ,\n",
              "       19.5, 20.1, 50. , 17.2, 20.8, 19.3, 41.3, 20.4, 20.5, 13.8, 16.5,\n",
              "       23.9, 20.6, 31.5, 23.3, 16.8, 14. , 33.8, 36.1, 12.8, 18.3, 18.7,\n",
              "       19.1, 29. , 30.1, 50. , 50. , 22. , 11.9, 37.6, 50. , 22.7, 20.8,\n",
              "       23.5, 27.9, 50. , 19.3, 23.9, 22.6, 15.2, 21.7, 19.2, 43.8, 20.3,\n",
              "       33.2, 19.9, 22.5, 32.7, 22. , 17.1, 19. , 15. , 16.1, 25.1, 23.7,\n",
              "       28.7, 37.2, 22.6, 16.4, 25. , 29.8, 22.1, 17.4, 18.1, 30.3, 17.5,\n",
              "       24.7, 12.6, 26.5, 28.7, 13.3, 10.4, 24.4, 23. , 20. , 17.8,  7. ,\n",
              "       11.8, 24.4, 13.8, 19.4, 25.2, 19.4, 19.4, 29.1])"
            ]
          },
          "metadata": {
            "tags": []
          },
          "execution_count": 3
        }
      ]
    },
    {
      "metadata": {
        "id": "cv1cuj9SYEJe",
        "colab_type": "code",
        "colab": {}
      },
      "cell_type": "code",
      "source": [
        "mean = train_data.mean(axis = 0)\n",
        "train_data -= mean\n",
        "std = train_data.std(axis = 0)\n",
        "train_data /= std\n",
        "\n",
        "test_data -= mean\n",
        "test_data /= std"
      ],
      "execution_count": 0,
      "outputs": []
    },
    {
      "metadata": {
        "id": "wHajK3QqYlAY",
        "colab_type": "code",
        "colab": {}
      },
      "cell_type": "code",
      "source": [
        "from keras import models\n",
        "from keras import layers\n",
        "\n",
        "def build_model():\n",
        "  model = models.Sequential()\n",
        "  model.add(layers.Dense(64, activation='relu', input_shape=(train_data.shape[1],)))\n",
        "  model.add(layers.Dense(64, activation='relu'))\n",
        "  model.add(layers.Dense(1))\n",
        "  model.compile(optimizer='rmsprop', loss='mse', metrics=['mae'])\n",
        "  return model"
      ],
      "execution_count": 0,
      "outputs": []
    },
    {
      "metadata": {
        "id": "KHfB7wI3ZMts",
        "colab_type": "code",
        "colab": {}
      },
      "cell_type": "code",
      "source": [
        "import numpy as np\n",
        "\n",
        "k = 4\n",
        "num_val_samples = len(train_data) // k\n",
        "num_epochs = 100\n",
        "all_scores = []"
      ],
      "execution_count": 0,
      "outputs": []
    },
    {
      "metadata": {
        "id": "WvRgzmDWfO7U",
        "colab_type": "code",
        "outputId": "181362f3-0c54-4f3d-ee90-f878767fb8ad",
        "colab": {
          "base_uri": "https://localhost:8080/",
          "height": 85
        }
      },
      "cell_type": "code",
      "source": [
        "for i in range (k):\n",
        "  print(\"Processing fold #\", i)\n",
        "  val_data = train_data[i * num_val_samples: (i + 1) * num_val_samples]\n",
        "  val_targets = train_targets[i * num_val_samples: (i + 1) * num_val_samples]\n",
        "  \n",
        "  partial_train_data = np.concatenate(\n",
        "      [train_data[:i * num_val_samples],\n",
        "       train_data[(i + 1) * num_val_samples:]],\n",
        "      axis = 0)\n",
        "  \n",
        "  partial_train_targets = np.concatenate(\n",
        "      [train_targets[:i * num_val_samples],\n",
        "       train_targets[(i + 1) * num_val_samples:]],\n",
        "      axis = 0)\n",
        "  \n",
        "  model = build_model()\n",
        "  model.fit(partial_train_data, partial_train_targets, epochs=num_epochs, batch_size=1, verbose=0)\n",
        "  val_mse, val_mae = model.evaluate(val_data, val_targets, verbose = 0)\n",
        "  all_scores.append(val_mae)"
      ],
      "execution_count": 7,
      "outputs": [
        {
          "output_type": "stream",
          "text": [
            "Processing fold # 0\n",
            "Processing fold # 1\n",
            "Processing fold # 2\n",
            "Processing fold # 3\n"
          ],
          "name": "stdout"
        }
      ]
    },
    {
      "metadata": {
        "id": "XUtebeiljvsG",
        "colab_type": "code",
        "outputId": "85061ecf-fe4f-48d8-8727-71cb7867f7cf",
        "colab": {
          "base_uri": "https://localhost:8080/",
          "height": 34
        }
      },
      "cell_type": "code",
      "source": [
        "all_scores"
      ],
      "execution_count": 8,
      "outputs": [
        {
          "output_type": "execute_result",
          "data": {
            "text/plain": [
              "[2.0581326413862775, 2.2001309324019025, 2.8750618802438868, 2.410775157484678]"
            ]
          },
          "metadata": {
            "tags": []
          },
          "execution_count": 8
        }
      ]
    },
    {
      "metadata": {
        "id": "lmQqdILKj0Pw",
        "colab_type": "code",
        "outputId": "f3babdb6-3095-4b10-daf3-0c845a2e47ed",
        "colab": {
          "base_uri": "https://localhost:8080/",
          "height": 34
        }
      },
      "cell_type": "code",
      "source": [
        "np.mean(all_scores)"
      ],
      "execution_count": 9,
      "outputs": [
        {
          "output_type": "execute_result",
          "data": {
            "text/plain": [
              "2.386025152879186"
            ]
          },
          "metadata": {
            "tags": []
          },
          "execution_count": 9
        }
      ]
    },
    {
      "metadata": {
        "id": "odQ22JSGkNdu",
        "colab_type": "code",
        "colab": {}
      },
      "cell_type": "code",
      "source": [
        "from keras import backend as K\n",
        "\n",
        "# Some memory clean-up\n",
        "K.clear_session()"
      ],
      "execution_count": 0,
      "outputs": []
    },
    {
      "metadata": {
        "id": "gAzGyMyZkQwA",
        "colab_type": "code",
        "outputId": "5a216ec4-f9e5-48f5-c5ae-12a83cb54562",
        "colab": {
          "base_uri": "https://localhost:8080/",
          "height": 85
        }
      },
      "cell_type": "code",
      "source": [
        "# Takes about 40 minutes with GPU!\n",
        "\n",
        "num_epochs = 500\n",
        "all_mae_histories = []\n",
        "for i in range(k):\n",
        "    print('processing fold #', i)\n",
        "    # Prepare the validation data: data from partition # k\n",
        "    val_data = train_data[i * num_val_samples: (i + 1) * num_val_samples]\n",
        "    val_targets = train_targets[i * num_val_samples: (i + 1) * num_val_samples]\n",
        "\n",
        "    # Prepare the training data: data from all other partitions\n",
        "    partial_train_data = np.concatenate(\n",
        "        [train_data[:i * num_val_samples],\n",
        "         train_data[(i + 1) * num_val_samples:]],\n",
        "        axis=0)\n",
        "    partial_train_targets = np.concatenate(\n",
        "        [train_targets[:i * num_val_samples],\n",
        "         train_targets[(i + 1) * num_val_samples:]],\n",
        "        axis=0)\n",
        "\n",
        "    # Build the Keras model (already compiled)\n",
        "    model = build_model()\n",
        "    # Train the model (in silent mode, verbose=0)\n",
        "    history = model.fit(partial_train_data, partial_train_targets,\n",
        "                        validation_data=(val_data, val_targets),\n",
        "                        epochs=num_epochs, batch_size=1, verbose=0)\n",
        "    mae_history = history.history['val_mean_absolute_error']\n",
        "    all_mae_histories.append(mae_history)"
      ],
      "execution_count": 11,
      "outputs": [
        {
          "output_type": "stream",
          "text": [
            "processing fold # 0\n",
            "processing fold # 1\n",
            "processing fold # 2\n",
            "processing fold # 3\n"
          ],
          "name": "stdout"
        }
      ]
    },
    {
      "metadata": {
        "id": "0vNlTsVFhgYW",
        "colab_type": "code",
        "outputId": "da3f1086-c187-44bb-c7cb-c412b4518bfd",
        "colab": {
          "base_uri": "https://localhost:8080/",
          "height": 54
        }
      },
      "cell_type": "code",
      "source": [
        "average_mae_history = [np.mean([x[i] for x in all_mae_histories]) for i in range(num_epochs)]\n",
        "print(average_mae_history)"
      ],
      "execution_count": 12,
      "outputs": [
        {
          "output_type": "stream",
          "text": [
            "[4.796260092518117, 3.388225911867501, 3.061261246700098, 2.7476445283039963, 2.7998103505313985, 2.702343532354525, 2.6392762696388923, 2.6321785013274392, 2.562397854162915, 2.591890248921838, 2.491829016421101, 2.7326870767196807, 2.5149959337593306, 2.398953531048085, 2.43156633754768, 2.4221462507059077, 2.478962491054346, 2.445202171212376, 2.3615980998124226, 2.5021844382333285, 2.384448576681685, 2.3553762589350784, 2.31786837672243, 2.341285502556527, 2.504891235049408, 2.333243772535041, 2.2872460431391652, 2.4081005448161967, 2.3171137288065236, 2.453466705756612, 2.3736781342194813, 2.496069264884042, 2.3486995720627286, 2.4643254350907733, 2.436522140361295, 2.283734732335157, 2.391451946579584, 2.333306851953563, 2.312938464750158, 2.382756544811891, 2.2707518823076005, 2.302550962655851, 2.312473976966178, 2.3031054876818517, 2.2366246368625378, 2.4791096897408513, 2.2878004005639863, 2.352847366049738, 2.3511118062651986, 2.3203315463396583, 2.277226724837086, 2.309549526412888, 2.507873042975322, 2.4906108084291514, 2.369367289071036, 2.3181048242172393, 2.343026638031006, 2.330784175655629, 2.2903602205880795, 2.3735902333023526, 2.4164916123494065, 2.371129584784555, 2.418413847389788, 2.31862465225824, 2.310943592893015, 2.254151875429814, 2.3472633113955506, 2.3316544247145696, 2.4404858929095883, 2.3694707178833463, 2.3680765829464, 2.3431793923425204, 2.356030081758405, 2.4458513200873195, 2.469198970511408, 2.37385632732127, 2.45146631722403, 2.4339038180832815, 2.7016940175896824, 2.3705311234634703, 2.351607842020469, 2.4954635754670247, 2.2920146153704954, 2.380569754260601, 2.342138362402963, 2.3728480752151793, 2.516498349680759, 2.4006743655346408, 2.409533733188516, 2.550045497346632, 2.5328890952733487, 2.399504877553128, 2.508801702225562, 2.3367234315022385, 2.378206974208945, 2.3733012605421613, 2.6582566629541984, 2.3709417498937926, 2.43487548474038, 2.4723416153747255, 2.50299600091311, 2.3565579145261557, 2.4161425551565565, 2.383763928224545, 2.7228396694258885, 2.4307891472731487, 2.3965532531832707, 2.6610000688250706, 2.4309532146642705, 2.437366309732494, 2.406152076060229, 2.4612828186242885, 2.4756185866818567, 2.4569872653130256, 2.5860867004583374, 2.471723748905824, 2.4234808482746084, 2.4944245850685802, 2.6849735939856805, 2.5821232264584832, 2.5604190649372516, 2.4633218628345146, 2.5308136786564743, 2.4817883567054673, 2.551440954208374, 2.475625480755721, 2.496931807829602, 2.512309227839555, 2.46957786720578, 2.41898249989689, 2.3073244826628434, 2.5145876195171093, 2.6505937658914247, 2.498996353385472, 2.4202149457270554, 2.493362023098634, 2.5411668071652405, 2.445220732452846, 2.402188237350766, 2.6038605671117803, 2.4988682647742846, 2.449334902338462, 2.5645089857649093, 2.5352363043492385, 2.5829944291917406, 2.5331651373664927, 2.512039158603933, 2.5425424103689664, 2.532104283276171, 2.6058319866067112, 2.588843591142409, 2.7027740891617125, 2.6160834897862806, 2.637811058818704, 2.5938549891556844, 2.523279589001495, 2.6111668832231274, 2.7238670068212074, 2.6427215196118494, 2.4468949561071867, 2.6145204282043, 2.638224202807587, 2.5901176929473877, 2.6614030812046314, 2.6212120846946645, 2.618544032077978, 2.616337542486663, 2.6849080371384577, 2.5222034891053005, 2.5317054998756636, 2.685942448011719, 2.7035816766247893, 2.4987760357337425, 2.571844787880926, 2.788711759123472, 2.718774449707258, 2.681756214340134, 2.6171146831890146, 2.68412720802987, 2.5482253532598516, 2.6726097564886113, 2.6790276506159567, 2.6904649828920273, 2.6639397817082924, 2.5442272188639876, 2.573902662437741, 2.607513727528034, 2.5798940575949034, 2.574868133752653, 2.6388670324098946, 2.5408255723443363, 2.503591032311468, 2.7333400591765304, 2.544768552968998, 2.610601998791836, 2.58220647231187, 2.5536881224943855, 2.5873082911614143, 2.601419749826488, 2.57150935890651, 2.7172191615151884, 2.6095472951926806, 2.574331845387374, 2.6310140118740573, 2.542760405209985, 2.5178502573825345, 2.529680141127936, 2.596440206659903, 2.5857486476992615, 2.6316046407907314, 2.6346686098835255, 2.7142901042900465, 2.747929586042272, 2.4984481134036978, 2.587076698199357, 2.657159112467624, 2.6789297184141554, 2.556027325073091, 2.765078892802248, 2.6789255614327914, 2.611673581718218, 2.662657297483765, 2.579999040849138, 2.6106958873201123, 2.6391149322585306, 2.5427615973028805, 2.5783661981620414, 2.627265789721272, 2.5745808700523756, 2.633681457821685, 2.621352097775677, 2.5648524100237555, 2.6731395202107953, 2.735733133731502, 2.64489213782962, 2.573955698768691, 2.687959380669169, 2.6368075137091154, 2.6536418317568184, 2.714945394213837, 2.5732451712731086, 2.5061393645730345, 2.620095735729331, 2.591634762169111, 2.5943602476969807, 2.666683551108483, 2.5814361796520724, 2.7338590220649643, 2.82077419167698, 2.7148899973028957, 2.7725799414190915, 2.7308388511733255, 2.61823038653572, 2.7499128143386082, 2.669951588800638, 2.666495680809021, 2.732669779569796, 2.8142208722558353, 2.6659312980009777, 2.593964324139132, 2.69628647530433, 2.6814843864724187, 2.6729315920631485, 2.543322838178956, 2.565912383617741, 2.6023148982831747, 2.6115523446904554, 2.6053650827691106, 2.7442548841533094, 2.652254847016665, 2.6792339086532593, 2.612943278680934, 2.6390092443711684, 2.7043193283647593, 2.5329816719092944, 2.598595084530292, 2.7837513307533643, 2.5591960685087902, 2.6839982046939355, 2.68083665158489, 2.6229261407757747, 2.6642605408583537, 2.7334221601486206, 2.5642783712632586, 2.7796503860171478, 2.605534228948083, 2.740352696711474, 2.684244090967839, 2.603859059881456, 2.567248205147167, 2.493330925998121, 2.715087437393642, 2.6926040366144464, 2.7038514850163224, 2.578408110259783, 2.5963079339206807, 2.6406557241288744, 2.6486594759591737, 2.6990248814667805, 2.575208098581522, 2.647260380263376, 2.696538325583581, 2.664743225173195, 2.6610032343628385, 2.6401896264293407, 2.5846031868811883, 2.8182780459375665, 2.5947834182493756, 2.595744815793368, 2.7704604805105983, 2.5772581867652367, 2.7089425396211078, 2.5565795143051906, 2.607674988189546, 2.656422141754981, 2.6201703831700995, 2.506780546490509, 2.552821763671271, 2.6115036459252385, 2.508102554495972, 2.5879273792304613, 2.7559282992145797, 2.722047238066645, 2.6492076026331084, 2.6600970974062927, 2.719993089685346, 2.5813294932393744, 2.6613712287185214, 2.601324456753117, 2.5978696723975756, 2.6521915964560936, 2.6223631920200763, 2.642775858982955, 2.535245390221624, 2.652459247277515, 2.64354665916745, 2.571968981535128, 2.596084980681391, 2.770644439329015, 2.680181631947508, 2.6955305172665285, 2.6929664281335204, 2.687302232968925, 2.527754522786282, 2.590407051662407, 2.6844778922524783, 2.781863383727498, 2.5892088861748723, 2.6982561833787675, 2.656284827997189, 2.6218376879644865, 2.6590624705399617, 2.643321747827058, 2.629388655766402, 2.6623720143101, 2.6697599108856505, 2.70791223379645, 2.5800217307440123, 2.7736402502154363, 2.6051616302811276, 2.6755001509543694, 2.607375915687863, 2.6346275062844304, 2.608091058117328, 2.6287046434855696, 2.6676013823783045, 2.708215462099208, 2.619871098216217, 2.652191633045083, 2.7907814188758926, 2.6413347272589656, 2.6956584288342165, 2.69427495309622, 2.7779600112745078, 2.6180588195819663, 2.7652746804870003, 2.6575743255048696, 2.6671537160873413, 2.659665911504538, 2.6188332255523985, 2.641864467375349, 2.7456898842707718, 2.6219175900563156, 2.7404917148080203, 2.5500863731497585, 2.7115229202969244, 2.672993396768476, 2.6280372249017843, 2.715746943313297, 2.756183627808448, 2.8183525977748456, 2.661059289875597, 2.6430019211060927, 2.712205421806562, 2.8212907184468636, 2.780596013116364, 2.67343531976832, 2.697852691801468, 2.746292000949973, 2.6100780857671606, 2.716957166643426, 2.6920131905244125, 2.6339542971979273, 2.689799387856285, 2.617841302758396, 2.692284310218131, 2.692536989060959, 2.76310134170079, 2.788033439381288, 2.7542807477535587, 2.700883477041037, 2.682684746119055, 2.6818720952118977, 2.699524973878766, 2.599989351659718, 2.648558359334965, 2.6359070480459987, 2.774531671316317, 2.655006774581305, 2.7629616567403965, 2.5932474466833737, 2.668369771230339, 2.5788945939281196, 2.704487962297874, 2.6694745982047356, 2.6917497816652354, 2.7465708633460624, 2.6833977840914587, 2.601693476780806, 2.710286200636684, 2.7567620855746884, 2.7052520962044744, 2.658053832479043, 2.652857766293063, 2.699410152907419, 2.637855644273286, 2.7115087816030674, 2.729288614622437, 2.6707866227272716, 2.6691312258786493, 2.629147236890132, 2.7194707004150542, 2.6867117775548803, 2.685343197076627, 2.705857563726973, 2.7085703953658, 2.6106888870201486, 2.691487215533115, 2.6136199731637935, 2.67537265484876, 2.6540783289635534, 2.6929409539345466, 2.6457712083759874, 2.6246793907467683, 2.617077668114464, 2.6555592470830027, 2.632179142224907, 2.668625355947136, 2.7957512789433547, 2.62877619030452, 2.607014527415285, 2.5517928399661978, 2.754183632312435, 2.600801910504256, 2.667351983561374, 2.7391786209427487, 2.703890958634933, 2.646645227281174, 2.704600262169791, 2.6302145200200604, 2.619596484864112, 2.563956671422071, 2.688572560206498, 2.620811973467912, 2.6505735793916303, 2.626851527997763, 2.5402210325297743, 2.6946666854442936, 2.5368162936503342, 2.6100650329400996, 2.6023575716679637, 2.6847104377085618, 2.6222337059455345, 2.645139193770909, 2.5329323936216905, 2.6729703114764525, 2.5907647420864293, 2.579022963448326, 2.651397651965075, 2.647202386714444, 2.661771624395163, 2.645270709944244, 2.6526008124398714, 2.5695627373043854, 2.678101936189255, 2.5902972823322408, 2.6625455334635064, 2.5926722040270813, 2.6116789378742182, 2.6838585634042724]\n"
          ],
          "name": "stdout"
        }
      ]
    },
    {
      "metadata": {
        "id": "7olfejzsl5b-",
        "colab_type": "code",
        "colab": {
          "base_uri": "https://localhost:8080/",
          "height": 361
        },
        "outputId": "ae53cec5-4fc2-446f-af26-391fdf3e8359"
      },
      "cell_type": "code",
      "source": [
        "import matplotlib.pyplot as plt\n",
        "\n",
        "plt.plot(range(1, len(average_mae_history) + 1), average_mae_history)\n",
        "plt.xlabel('Epochs')\n",
        "plt.ylabel('Validation MAE')\n",
        "plt.show()"
      ],
      "execution_count": 14,
      "outputs": [
        {
          "output_type": "display_data",
          "data": {
            "image/png": "[encoded data removed]",
            "text/plain": [
              "<matplotlib.figure.Figure at 0x7ffa6bcd8630>"
            ]
          },
          "metadata": {
            "tags": []
          }
        }
      ]
    }
  ]
}