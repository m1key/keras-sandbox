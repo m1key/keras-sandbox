{
  "nbformat": 4,
  "nbformat_minor": 0,
  "metadata": {
    "colab": {
      "name": "IMDB.ipynb",
      "version": "0.3.2",
      "provenance": [],
      "collapsed_sections": [],
      "include_colab_link": true
    },
    "kernelspec": {
      "name": "python3",
      "display_name": "Python 3"
    }
  },
  "cells": [
    {
      "cell_type": "markdown",
      "metadata": {
        "id": "view-in-github",
        "colab_type": "text"
      },
      "source": [
        "<a href=\"https://colab.research.google.com/github/m1key/keras-sandbox/blob/master/IMDB.ipynb\" target=\"_parent\"><img src=\"https://colab.research.google.com/assets/colab-badge.svg\" alt=\"Open In Colab\"/></a>"
      ]
    },
    {
      "metadata": {
        "id": "KHaJUvgZppXO",
        "colab_type": "code",
        "colab": {
          "base_uri": "https://localhost:8080/",
          "height": 72
        },
        "outputId": "6533dac4-3370-4c1a-d0f6-98d958c3a939"
      },
      "cell_type": "code",
      "source": [
        "from keras.datasets import imdb\n",
        "(train_data, train_labels), (test_data, test_labels) = imdb.load_data(num_words=10000)"
      ],
      "execution_count": 1,
      "outputs": [
        {
          "output_type": "stream",
          "text": [
            "Using TensorFlow backend.\n"
          ],
          "name": "stderr"
        },
        {
          "output_type": "stream",
          "text": [
            "Downloading data from https://s3.amazonaws.com/text-datasets/imdb.npz\n",
            "17465344/17464789 [==============================] - 1s 0us/step\n"
          ],
          "name": "stdout"
        }
      ]
    },
    {
      "metadata": {
        "id": "rMzrDVlsp35B",
        "colab_type": "code",
        "colab": {
          "base_uri": "https://localhost:8080/",
          "height": 55
        },
        "outputId": "a034bdeb-f24b-4e02-dc19-870b3847c9ca"
      },
      "cell_type": "code",
      "source": [
        "print(train_data[0])"
      ],
      "execution_count": 2,
      "outputs": [
        {
          "output_type": "stream",
          "text": [
            "[1, 14, 22, 16, 43, 530, 973, 1622, 1385, 65, 458, 4468, 66, 3941, 4, 173, 36, 256, 5, 25, 100, 43, 838, 112, 50, 670, 2, 9, 35, 480, 284, 5, 150, 4, 172, 112, 167, 2, 336, 385, 39, 4, 172, 4536, 1111, 17, 546, 38, 13, 447, 4, 192, 50, 16, 6, 147, 2025, 19, 14, 22, 4, 1920, 4613, 469, 4, 22, 71, 87, 12, 16, 43, 530, 38, 76, 15, 13, 1247, 4, 22, 17, 515, 17, 12, 16, 626, 18, 2, 5, 62, 386, 12, 8, 316, 8, 106, 5, 4, 2223, 5244, 16, 480, 66, 3785, 33, 4, 130, 12, 16, 38, 619, 5, 25, 124, 51, 36, 135, 48, 25, 1415, 33, 6, 22, 12, 215, 28, 77, 52, 5, 14, 407, 16, 82, 2, 8, 4, 107, 117, 5952, 15, 256, 4, 2, 7, 3766, 5, 723, 36, 71, 43, 530, 476, 26, 400, 317, 46, 7, 4, 2, 1029, 13, 104, 88, 4, 381, 15, 297, 98, 32, 2071, 56, 26, 141, 6, 194, 7486, 18, 4, 226, 22, 21, 134, 476, 26, 480, 5, 144, 30, 5535, 18, 51, 36, 28, 224, 92, 25, 104, 4, 226, 65, 16, 38, 1334, 88, 12, 16, 283, 5, 16, 4472, 113, 103, 32, 15, 16, 5345, 19, 178, 32]\n"
          ],
          "name": "stdout"
        }
      ]
    },
    {
      "metadata": {
        "id": "Vt_MHJbdqDvk",
        "colab_type": "code",
        "colab": {
          "base_uri": "https://localhost:8080/",
          "height": 35
        },
        "outputId": "ab3595d0-3702-4942-c68d-d1313e7729aa"
      },
      "cell_type": "code",
      "source": [
        "print(train_labels[2]) # 0 is negative. 1 is positive."
      ],
      "execution_count": 10,
      "outputs": [
        {
          "output_type": "stream",
          "text": [
            "0\n"
          ],
          "name": "stdout"
        }
      ]
    },
    {
      "metadata": {
        "id": "sllnu5JpqVVC",
        "colab_type": "code",
        "colab": {
          "base_uri": "https://localhost:8080/",
          "height": 55
        },
        "outputId": "144e5b9b-04a0-4f9f-ea09-a07975f69ee5"
      },
      "cell_type": "code",
      "source": [
        "word_index = imdb.get_word_index()\n",
        "reverse_word_index = dict([(value, key) for (key, value) in word_index.items()])\n",
        "decoded_review = ' '.join([reverse_word_index.get(i - 3, '?') for i in train_data[2]])\n",
        "print(decoded_review)"
      ],
      "execution_count": 9,
      "outputs": [
        {
          "output_type": "stream",
          "text": [
            "? this has to be one of the worst films of the 1990s when my friends i were watching this film being the target audience it was aimed at we just sat watched the first half an hour with our jaws touching the floor at how bad it really was the rest of the time everyone else in the theatre just started talking to each other leaving or generally crying into their popcorn that they actually paid money they had ? working to watch this feeble excuse for a film it must have looked like a great idea on paper but on film it looks like no one in the film has a clue what is going on crap acting crap costumes i can't get across how ? this is to watch save yourself an hour a bit of your life\n"
          ],
          "name": "stdout"
        }
      ]
    },
    {
      "metadata": {
        "id": "zDyIlCK1uELP",
        "colab_type": "code",
        "colab": {
          "base_uri": "https://localhost:8080/",
          "height": 92
        },
        "outputId": "9d457701-57f4-4df4-f5be-93a6bca54f37"
      },
      "cell_type": "code",
      "source": [
        "print(word_index[\"films\"])\n",
        "print(reverse_word_index[105]) # 105 + 3 = 108\n",
        "print(train_data[2])"
      ],
      "execution_count": 21,
      "outputs": [
        {
          "output_type": "stream",
          "text": [
            "105\n",
            "films\n",
            "[1, 14, 47, 8, 30, 31, 7, 4, 249, 108, 7, 4, 5974, 54, 61, 369, 13, 71, 149, 14, 22, 112, 4, 2401, 311, 12, 16, 3711, 33, 75, 43, 1829, 296, 4, 86, 320, 35, 534, 19, 263, 4821, 1301, 4, 1873, 33, 89, 78, 12, 66, 16, 4, 360, 7, 4, 58, 316, 334, 11, 4, 1716, 43, 645, 662, 8, 257, 85, 1200, 42, 1228, 2578, 83, 68, 3912, 15, 36, 165, 1539, 278, 36, 69, 2, 780, 8, 106, 14, 6905, 1338, 18, 6, 22, 12, 215, 28, 610, 40, 6, 87, 326, 23, 2300, 21, 23, 22, 12, 272, 40, 57, 31, 11, 4, 22, 47, 6, 2307, 51, 9, 170, 23, 595, 116, 595, 1352, 13, 191, 79, 638, 89, 2, 14, 9, 8, 106, 607, 624, 35, 534, 6, 227, 7, 129, 113]\n"
          ],
          "name": "stdout"
        }
      ]
    },
    {
      "metadata": {
        "id": "1Rfk5zIH3PAV",
        "colab_type": "code",
        "colab": {
          "base_uri": "https://localhost:8080/",
          "height": 55
        },
        "outputId": "48f09f4a-fff0-4dae-d48b-0f8022076bf8"
      },
      "cell_type": "code",
      "source": [
        "def encode(text):\n",
        "  words = text.split(' ')\n",
        "  encoded = map(lambda word: word_index[word]+3 if word in word_index else 1, words)\n",
        "  return list(encoded)\n",
        "\n",
        "comment_text = '? this has to be one of the worst films of the 1990s when my friends i were watching this film being the target audience it was aimed at we just sat watched the first half an hour with our jaws touching the floor at how bad it really was the rest of the time everyone else in the theatre just started talking to each other leaving or generally crying into their popcorn that they actually paid money they had ? working to watch this feeble excuse for a film it must have looked like a great idea on paper but on film it looks like no one in the film has a clue what is going on crap acting crap costumes i can\\'t get across how ? this is to watch save yourself an hour a bit of your life'\n",
        "print(encode(comment_text))"
      ],
      "execution_count": 82,
      "outputs": [
        {
          "output_type": "stream",
          "text": [
            "[1, 14, 47, 8, 30, 31, 7, 4, 249, 108, 7, 4, 5974, 54, 61, 369, 13, 71, 149, 14, 22, 112, 4, 2401, 311, 12, 16, 3711, 33, 75, 43, 1829, 296, 4, 86, 320, 35, 534, 19, 263, 4821, 1301, 4, 1873, 33, 89, 78, 12, 66, 16, 4, 360, 7, 4, 58, 316, 334, 11, 4, 1716, 43, 645, 662, 8, 257, 85, 1200, 42, 1228, 2578, 83, 68, 3912, 15, 36, 165, 1539, 278, 36, 69, 1, 780, 8, 106, 14, 6905, 1338, 18, 6, 22, 12, 215, 28, 610, 40, 6, 87, 326, 23, 2300, 21, 23, 22, 12, 272, 40, 57, 31, 11, 4, 22, 47, 6, 2307, 51, 9, 170, 23, 595, 116, 595, 1352, 13, 191, 79, 638, 89, 1, 14, 9, 8, 106, 607, 624, 35, 534, 6, 227, 7, 129, 113]\n"
          ],
          "name": "stdout"
        }
      ]
    },
    {
      "metadata": {
        "id": "yWbQIVQMqnrf",
        "colab_type": "code",
        "colab": {}
      },
      "cell_type": "code",
      "source": [
        "import numpy as np\n",
        "def vectorize_sequences(sequences, dimension=10000):\n",
        "  results = np.zeros((len(sequences), dimension))\n",
        "  for i, sequence in enumerate(sequences):\n",
        "    sequence = [9999 if x > dimension else x for x in sequence]\n",
        "    print(sequence)\n",
        "    results[i, sequence] = 1.\n",
        "  return results"
      ],
      "execution_count": 0,
      "outputs": []
    },
    {
      "metadata": {
        "id": "3Qc62EHNtx4h",
        "colab_type": "code",
        "colab": {}
      },
      "cell_type": "code",
      "source": [
        "x_train = vectorize_sequences(train_data)\n",
        "x_test = vectorize_sequences(test_data)"
      ],
      "execution_count": 0,
      "outputs": []
    },
    {
      "metadata": {
        "id": "e_Ovykmyt8SW",
        "colab_type": "code",
        "colab": {
          "base_uri": "https://localhost:8080/",
          "height": 35
        },
        "outputId": "0900a23a-bb93-42f6-d106-f1fbbb775863"
      },
      "cell_type": "code",
      "source": [
        "x_train[0]"
      ],
      "execution_count": 22,
      "outputs": [
        {
          "output_type": "execute_result",
          "data": {
            "text/plain": [
              "array([0., 1., 1., ..., 0., 0., 0.])"
            ]
          },
          "metadata": {
            "tags": []
          },
          "execution_count": 22
        }
      ]
    },
    {
      "metadata": {
        "id": "vblrD-pmvkqd",
        "colab_type": "code",
        "colab": {}
      },
      "cell_type": "code",
      "source": [
        "y_train = np.asarray(train_labels).astype('float32')\n",
        "y_test = np.asarray(test_labels).astype('float32')"
      ],
      "execution_count": 0,
      "outputs": []
    },
    {
      "metadata": {
        "id": "52c05cslv3HE",
        "colab_type": "code",
        "colab": {
          "base_uri": "https://localhost:8080/",
          "height": 35
        },
        "outputId": "7b992aab-2565-4eeb-f54e-d39c5464fcab"
      },
      "cell_type": "code",
      "source": [
        "y_train[0]"
      ],
      "execution_count": 25,
      "outputs": [
        {
          "output_type": "execute_result",
          "data": {
            "text/plain": [
              "1.0"
            ]
          },
          "metadata": {
            "tags": []
          },
          "execution_count": 25
        }
      ]
    },
    {
      "metadata": {
        "id": "Bl-T8WRpv4wf",
        "colab_type": "code",
        "colab": {}
      },
      "cell_type": "code",
      "source": [
        "from keras import models\n",
        "from keras import layers\n",
        "\n",
        "model = models.Sequential()\n",
        "model.add(layers.Dense(16, activation='tanh', input_shape=(10000,)))\n",
        "model.add(layers.Dense(16, activation='tanh'))\n",
        "model.add(layers.Dense(1, activation='sigmoid'))"
      ],
      "execution_count": 0,
      "outputs": []
    },
    {
      "metadata": {
        "id": "SG5JwzsnxB6f",
        "colab_type": "code",
        "colab": {}
      },
      "cell_type": "code",
      "source": [
        "model.compile(optimizer = 'rmsprop', loss = 'binary_crossentropy', metrics = ['accuracy'])"
      ],
      "execution_count": 0,
      "outputs": []
    },
    {
      "metadata": {
        "id": "sZ9wMwbGxsQ3",
        "colab_type": "code",
        "colab": {}
      },
      "cell_type": "code",
      "source": [
        "x_val = x_train[:10000]\n",
        "partial_x_train = x_train[10000:]\n",
        "\n",
        "y_val = y_train[:10000]\n",
        "partial_y_train = y_train[10000:]"
      ],
      "execution_count": 0,
      "outputs": []
    },
    {
      "metadata": {
        "id": "9XM6G5u9ySud",
        "colab_type": "code",
        "colab": {
          "base_uri": "https://localhost:8080/",
          "height": 766
        },
        "outputId": "add86848-6634-49d6-97d5-a44e25e715f7"
      },
      "cell_type": "code",
      "source": [
        "history = model.fit(partial_x_train, partial_y_train, epochs = 20, batch_size = 512, validation_data = (x_val, y_val))"
      ],
      "execution_count": 176,
      "outputs": [
        {
          "output_type": "stream",
          "text": [
            "Train on 15000 samples, validate on 10000 samples\n",
            "Epoch 1/20\n",
            "15000/15000 [==============================] - 3s 194us/step - loss: 0.4954 - acc: 0.7896 - val_loss: 0.3626 - val_acc: 0.8748\n",
            "Epoch 2/20\n",
            "15000/15000 [==============================] - 2s 128us/step - loss: 0.2782 - acc: 0.9063 - val_loss: 0.2876 - val_acc: 0.8878\n",
            "Epoch 3/20\n",
            "15000/15000 [==============================] - 2s 129us/step - loss: 0.1964 - acc: 0.9327 - val_loss: 0.2772 - val_acc: 0.8870\n",
            "Epoch 4/20\n",
            "15000/15000 [==============================] - 2s 128us/step - loss: 0.1437 - acc: 0.9507 - val_loss: 0.3039 - val_acc: 0.8794\n",
            "Epoch 5/20\n",
            "15000/15000 [==============================] - 2s 129us/step - loss: 0.1143 - acc: 0.9622 - val_loss: 0.3078 - val_acc: 0.8842\n",
            "Epoch 6/20\n",
            "15000/15000 [==============================] - 2s 132us/step - loss: 0.0858 - acc: 0.9717 - val_loss: 0.3396 - val_acc: 0.8813\n",
            "Epoch 7/20\n",
            "15000/15000 [==============================] - 2s 129us/step - loss: 0.0652 - acc: 0.9806 - val_loss: 0.3900 - val_acc: 0.8782\n",
            "Epoch 8/20\n",
            "15000/15000 [==============================] - 2s 129us/step - loss: 0.0513 - acc: 0.9847 - val_loss: 0.4336 - val_acc: 0.8756\n",
            "Epoch 9/20\n",
            "15000/15000 [==============================] - 2s 128us/step - loss: 0.0414 - acc: 0.9878 - val_loss: 0.4701 - val_acc: 0.8723\n",
            "Epoch 10/20\n",
            "15000/15000 [==============================] - 2s 128us/step - loss: 0.0400 - acc: 0.9889 - val_loss: 0.5063 - val_acc: 0.8710\n",
            "Epoch 11/20\n",
            "15000/15000 [==============================] - 2s 128us/step - loss: 0.0156 - acc: 0.9975 - val_loss: 0.5792 - val_acc: 0.8668\n",
            "Epoch 12/20\n",
            "15000/15000 [==============================] - 2s 128us/step - loss: 0.0245 - acc: 0.9931 - val_loss: 0.5914 - val_acc: 0.8670\n",
            "Epoch 13/20\n",
            "15000/15000 [==============================] - 2s 129us/step - loss: 0.0218 - acc: 0.9929 - val_loss: 0.6271 - val_acc: 0.8666\n",
            "Epoch 14/20\n",
            "15000/15000 [==============================] - 2s 129us/step - loss: 0.0041 - acc: 0.9997 - val_loss: 0.6649 - val_acc: 0.8652\n",
            "Epoch 15/20\n",
            "15000/15000 [==============================] - 2s 128us/step - loss: 0.0206 - acc: 0.9951 - val_loss: 0.7067 - val_acc: 0.8626\n",
            "Epoch 16/20\n",
            "15000/15000 [==============================] - 2s 128us/step - loss: 0.0018 - acc: 0.9999 - val_loss: 0.7296 - val_acc: 0.8630\n",
            "Epoch 17/20\n",
            "15000/15000 [==============================] - 2s 127us/step - loss: 0.0243 - acc: 0.9935 - val_loss: 0.7710 - val_acc: 0.8625\n",
            "Epoch 18/20\n",
            "15000/15000 [==============================] - 2s 129us/step - loss: 9.6159e-04 - acc: 0.9999 - val_loss: 0.7782 - val_acc: 0.8626\n",
            "Epoch 19/20\n",
            "15000/15000 [==============================] - 2s 129us/step - loss: 6.9626e-04 - acc: 1.0000 - val_loss: 0.8102 - val_acc: 0.8615\n",
            "Epoch 20/20\n",
            "15000/15000 [==============================] - 2s 128us/step - loss: 0.0026 - acc: 0.9994 - val_loss: 1.0005 - val_acc: 0.8443\n"
          ],
          "name": "stdout"
        }
      ]
    },
    {
      "metadata": {
        "id": "assG6mAryeeH",
        "colab_type": "code",
        "colab": {
          "base_uri": "https://localhost:8080/",
          "height": 35
        },
        "outputId": "e522a2db-7d16-4bdb-cefc-b7b8a37de1f5"
      },
      "cell_type": "code",
      "source": [
        "history_dict = history.history\n",
        "history_dict.keys()"
      ],
      "execution_count": 177,
      "outputs": [
        {
          "output_type": "execute_result",
          "data": {
            "text/plain": [
              "dict_keys(['val_loss', 'val_acc', 'loss', 'acc'])"
            ]
          },
          "metadata": {
            "tags": []
          },
          "execution_count": 177
        }
      ]
    },
    {
      "metadata": {
        "id": "Oi-GyPcHy0QX",
        "colab_type": "code",
        "colab": {
          "base_uri": "https://localhost:8080/",
          "height": 376
        },
        "outputId": "634122c7-e531-45f2-c84e-9afb86a1311c"
      },
      "cell_type": "code",
      "source": [
        "import matplotlib.pyplot as plt\n",
        "\n",
        "loss_values = history_dict['loss']\n",
        "val_loss_values = history_dict['val_loss']\n",
        "acc = history_dict['acc']\n",
        "epochs = range(1, len(acc) + 1)\n",
        "plt.plot(epochs, loss_values, 'bo', label='Training loss')\n",
        "plt.plot(epochs, val_loss_values, 'b', label='Validation loss')\n",
        "plt.title('Training and validation loss')\n",
        "plt.xlabel('Epochs')\n",
        "plt.ylabel('Loss')\n",
        "plt.legend()\n",
        "\n",
        "plt.show()\n",
        "\n",
        "# Default: 0.29, 1 hidden layer: 0.28, mse: 0.8"
      ],
      "execution_count": 178,
      "outputs": [
        {
          "output_type": "display_data",
          "data": {
            "image/png": "[encoded data removed]",
            "text/plain": [
              "<matplotlib.figure.Figure at 0x7fd14d7a8940>"
            ]
          },
          "metadata": {
            "tags": []
          }
        }
      ]
    },
    {
      "metadata": {
        "id": "YXu6e7-Dz2qF",
        "colab_type": "code",
        "colab": {
          "base_uri": "https://localhost:8080/",
          "height": 376
        },
        "outputId": "85b7e5bc-6ecf-47f6-ebad-5d94082821c7"
      },
      "cell_type": "code",
      "source": [
        "plt.clf()\n",
        "acc_values = history_dict['acc']\n",
        "val_acc_values = history_dict['val_acc']\n",
        "\n",
        "plt.plot(epochs, acc_values, 'bo', label = 'Training acc')\n",
        "plt.plot(epochs, val_acc_values, 'b', label = 'Validation acc')\n",
        "plt.title('Training and validation accuracy')\n",
        "plt.xlabel('Epoch')\n",
        "plt.ylabel('Loss')\n",
        "plt.legend()\n",
        "\n",
        "plt.show()\n",
        "\n",
        "# 86%, 88%, 87%"
      ],
      "execution_count": 179,
      "outputs": [
        {
          "output_type": "display_data",
          "data": {
            "image/png": "[encoded data removed]",
            "text/plain": [
              "<matplotlib.figure.Figure at 0x7fd14d7a8400>"
            ]
          },
          "metadata": {
            "tags": []
          }
        }
      ]
    },
    {
      "metadata": {
        "id": "nEKRkMCK0b8o",
        "colab_type": "code",
        "colab": {
          "base_uri": "https://localhost:8080/",
          "height": 200
        },
        "outputId": "c083373c-07c6-4d62-d0aa-7e11a26a014a"
      },
      "cell_type": "code",
      "source": [
        "from keras import models\n",
        "from keras import layers\n",
        "\n",
        "model = models.Sequential()\n",
        "model.add(layers.Dense(16, activation='relu', input_shape=(10000,)))\n",
        "model.add(layers.Dense(16, activation='relu'))\n",
        "model.add(layers.Dense(1, activation='sigmoid'))\n",
        "\n",
        "model.compile(optimizer = 'rmsprop', loss = 'binary_crossentropy', metrics = ['accuracy'])\n",
        "\n",
        "model.fit(partial_x_train, partial_y_train, epochs = 4, batch_size = 512, validation_data = (x_val, y_val))\n",
        "\n",
        "results = model.evaluate(x_test, y_test)"
      ],
      "execution_count": 180,
      "outputs": [
        {
          "output_type": "stream",
          "text": [
            "Train on 15000 samples, validate on 10000 samples\n",
            "Epoch 1/4\n",
            "15000/15000 [==============================] - 3s 186us/step - loss: 0.1670 - acc: 0.7908 - val_loss: 0.1270 - val_acc: 0.8567\n",
            "Epoch 2/4\n",
            "15000/15000 [==============================] - 2s 128us/step - loss: 0.0960 - acc: 0.9083 - val_loss: 0.0978 - val_acc: 0.8895\n",
            "Epoch 3/4\n",
            "15000/15000 [==============================] - 2s 129us/step - loss: 0.0727 - acc: 0.9263 - val_loss: 0.0884 - val_acc: 0.8939\n",
            "Epoch 4/4\n",
            "15000/15000 [==============================] - 2s 128us/step - loss: 0.0582 - acc: 0.9422 - val_loss: 0.0851 - val_acc: 0.8929\n",
            "25000/25000 [==============================] - 2s 93us/step\n"
          ],
          "name": "stdout"
        }
      ]
    },
    {
      "metadata": {
        "id": "xtUzjzuZ1gLH",
        "colab_type": "code",
        "colab": {
          "base_uri": "https://localhost:8080/",
          "height": 35
        },
        "outputId": "cc2e227c-c0fb-4a8b-a722-13b3db47ff31"
      },
      "cell_type": "code",
      "source": [
        "results"
      ],
      "execution_count": 131,
      "outputs": [
        {
          "output_type": "execute_result",
          "data": {
            "text/plain": [
              "[0.09045825931072235, 0.88432]"
            ]
          },
          "metadata": {
            "tags": []
          },
          "execution_count": 131
        }
      ]
    },
    {
      "metadata": {
        "id": "AtCvfD9G1kEF",
        "colab_type": "code",
        "colab": {
          "base_uri": "https://localhost:8080/",
          "height": 35
        },
        "outputId": "3770d527-7b5b-483d-bf78-c9729144df3d"
      },
      "cell_type": "code",
      "source": [
        "  model.predict(x_test)\n",
        "  print(model.predict(np.array([x_test[0],])))"
      ],
      "execution_count": 132,
      "outputs": [
        {
          "output_type": "stream",
          "text": [
            "[[0.3284447]]\n"
          ],
          "name": "stdout"
        }
      ]
    },
    {
      "metadata": {
        "id": "_zELegCW1_a5",
        "colab_type": "code",
        "colab": {
          "base_uri": "https://localhost:8080/",
          "height": 293
        },
        "outputId": "78953771-3a66-4e3f-8312-d302cf44868f"
      },
      "cell_type": "code",
      "source": [
        "def text_to_input(text):\n",
        "  return vectorize_sequences(np.array([encode(text.lower()), ]))\n",
        "\n",
        "print(train_data[2])\n",
        "print(encode(comment_text))\n",
        "\n",
        "x = vectorize_sequences(np.array([encode(comment_text), ]))\n",
        "print(x_train[2])\n",
        "print(x[0])\n",
        "\n",
        "print(model.predict(np.array([x_train[2],])))\n",
        "print(model.predict(text_to_input(comment_text)))\n",
        "print(model.predict(text_to_input('absolutely brilliant film wow')))\n",
        "\n",
        "jinny_review_1 = \"One of the best movies I have seen this year by far. Great storyline and entertaining even though the ending was a bit predictable it is still a must-watch especially if you are a Queen fan. The main actor's performance is amazing and portrayed the protagonist extremely well, could not have asked for a better actor.\"\n",
        "print(model.predict(text_to_input(jinny_review_1)))\n",
        "jinny_review_2 = \"Story was very slow, took a long time to build up and the ending was confusion. I could do with having the 2 hours back in my life. I think the movie was overhyped with all the big Hollywood names.\"\n",
        "print(model.predict(text_to_input(jinny_review_2)))"
      ],
      "execution_count": 133,
      "outputs": [
        {
          "output_type": "stream",
          "text": [
            "[1, 14, 47, 8, 30, 31, 7, 4, 249, 108, 7, 4, 5974, 54, 61, 369, 13, 71, 149, 14, 22, 112, 4, 2401, 311, 12, 16, 3711, 33, 75, 43, 1829, 296, 4, 86, 320, 35, 534, 19, 263, 4821, 1301, 4, 1873, 33, 89, 78, 12, 66, 16, 4, 360, 7, 4, 58, 316, 334, 11, 4, 1716, 43, 645, 662, 8, 257, 85, 1200, 42, 1228, 2578, 83, 68, 3912, 15, 36, 165, 1539, 278, 36, 69, 2, 780, 8, 106, 14, 6905, 1338, 18, 6, 22, 12, 215, 28, 610, 40, 6, 87, 326, 23, 2300, 21, 23, 22, 12, 272, 40, 57, 31, 11, 4, 22, 47, 6, 2307, 51, 9, 170, 23, 595, 116, 595, 1352, 13, 191, 79, 638, 89, 2, 14, 9, 8, 106, 607, 624, 35, 534, 6, 227, 7, 129, 113]\n",
            "[1, 14, 47, 8, 30, 31, 7, 4, 249, 108, 7, 4, 5974, 54, 61, 369, 13, 71, 149, 14, 22, 112, 4, 2401, 311, 12, 16, 3711, 33, 75, 43, 1829, 296, 4, 86, 320, 35, 534, 19, 263, 4821, 1301, 4, 1873, 33, 89, 78, 12, 66, 16, 4, 360, 7, 4, 58, 316, 334, 11, 4, 1716, 43, 645, 662, 8, 257, 85, 1200, 42, 1228, 2578, 83, 68, 3912, 15, 36, 165, 1539, 278, 36, 69, 1, 780, 8, 106, 14, 6905, 1338, 18, 6, 22, 12, 215, 28, 610, 40, 6, 87, 326, 23, 2300, 21, 23, 22, 12, 272, 40, 57, 31, 11, 4, 22, 47, 6, 2307, 51, 9, 170, 23, 595, 116, 595, 1352, 13, 191, 79, 638, 89, 1, 14, 9, 8, 106, 607, 624, 35, 534, 6, 227, 7, 129, 113]\n",
            "[1, 14, 47, 8, 30, 31, 7, 4, 249, 108, 7, 4, 5974, 54, 61, 369, 13, 71, 149, 14, 22, 112, 4, 2401, 311, 12, 16, 3711, 33, 75, 43, 1829, 296, 4, 86, 320, 35, 534, 19, 263, 4821, 1301, 4, 1873, 33, 89, 78, 12, 66, 16, 4, 360, 7, 4, 58, 316, 334, 11, 4, 1716, 43, 645, 662, 8, 257, 85, 1200, 42, 1228, 2578, 83, 68, 3912, 15, 36, 165, 1539, 278, 36, 69, 1, 780, 8, 106, 14, 6905, 1338, 18, 6, 22, 12, 215, 28, 610, 40, 6, 87, 326, 23, 2300, 21, 23, 22, 12, 272, 40, 57, 31, 11, 4, 22, 47, 6, 2307, 51, 9, 170, 23, 595, 116, 595, 1352, 13, 191, 79, 638, 89, 1, 14, 9, 8, 106, 607, 624, 35, 534, 6, 227, 7, 129, 113]\n",
            "[0. 1. 1. ... 0. 0. 0.]\n",
            "[0. 1. 0. ... 0. 0. 0.]\n",
            "[[0.03211121]]\n",
            "[1, 14, 47, 8, 30, 31, 7, 4, 249, 108, 7, 4, 5974, 54, 61, 369, 13, 71, 149, 14, 22, 112, 4, 2401, 311, 12, 16, 3711, 33, 75, 43, 1829, 296, 4, 86, 320, 35, 534, 19, 263, 4821, 1301, 4, 1873, 33, 89, 78, 12, 66, 16, 4, 360, 7, 4, 58, 316, 334, 11, 4, 1716, 43, 645, 662, 8, 257, 85, 1200, 42, 1228, 2578, 83, 68, 3912, 15, 36, 165, 1539, 278, 36, 69, 1, 780, 8, 106, 14, 6905, 1338, 18, 6, 22, 12, 215, 28, 610, 40, 6, 87, 326, 23, 2300, 21, 23, 22, 12, 272, 40, 57, 31, 11, 4, 22, 47, 6, 2307, 51, 9, 170, 23, 595, 116, 595, 1352, 13, 191, 79, 638, 89, 1, 14, 9, 8, 106, 607, 624, 35, 534, 6, 227, 7, 129, 113]\n",
            "[[0.03087835]]\n",
            "[427, 530, 22, 1318]\n",
            "[[0.5426881]]\n",
            "[31, 7, 4, 118, 102, 13, 28, 110, 14, 291, 34, 1, 87, 769, 5, 441, 60, 151, 4, 277, 16, 6, 227, 727, 12, 9, 131, 6, 1, 262, 48, 25, 26, 6, 1652, 1, 4, 293, 5550, 239, 9, 480, 5, 1000, 4, 2311, 576, 1, 100, 24, 28, 1803, 18, 6, 128, 1]\n",
            "[[0.7375023]]\n",
            "[65, 16, 55, 1, 562, 6, 196, 58, 8, 1703, 56, 5, 4, 277, 16, 1, 13, 100, 81, 19, 260, 4, 241, 634, 145, 11, 61, 1, 13, 104, 4, 20, 16, 9999, 19, 32, 4, 194, 363, 1]\n",
            "[[0.50771755]]\n"
          ],
          "name": "stdout"
        }
      ]
    },
    {
      "metadata": {
        "id": "mVYmxR8N6TV0",
        "colab_type": "code",
        "colab": {}
      },
      "cell_type": "code",
      "source": [
        ""
      ],
      "execution_count": 0,
      "outputs": []
    }
  ]
}